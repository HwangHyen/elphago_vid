{
 "cells": [
  {
   "cell_type": "code",
   "execution_count": 1,
   "metadata": {},
   "outputs": [],
   "source": [
    "import numpy as np\n",
    "import pandas as pd\n",
    "from PIL import Image, ImageDraw, ImageFont\n",
    "import matplotlib.pyplot as plt\n",
    "import random\n",
    "from pathlib import Path\n",
    "import tqdm"
   ]
  },
  {
   "cell_type": "code",
   "execution_count": 20,
   "metadata": {},
   "outputs": [],
   "source": [
    "base_image = Image.open('data/option_background.png')\n",
    "options_df = pd.read_csv('data/options.csv')\n",
    "font_list = [\n",
    "    'NanumGothicBold',\n",
    "    'batang',\n",
    "    'NanumGothicBold',\n",
    "    'gulim'\n",
    "\n",
    "]\n",
    "font_color_list = [\n",
    "    (115,108,34),\n",
    "    (173,162,84),\n",
    "    (198,184,139),\n",
    "    (125,115,20)\n",
    "]"
   ]
  },
  {
   "cell_type": "code",
   "execution_count": 67,
   "metadata": {},
   "outputs": [],
   "source": [
    "index = random.randrange(0, len(options_df))\n",
    "font_name = random.choice(font_list)\n",
    "font_size = random.randrange(11,16)\n",
    "font_color = random.choice(font_color_list)"
   ]
  },
  {
   "cell_type": "code",
   "execution_count": 68,
   "metadata": {},
   "outputs": [
    {
     "data": {
      "image/png": "[encoded data removed]",
      "text/plain": [
       "<Figure size 640x480 with 1 Axes>"
      ]
     },
     "metadata": {},
     "output_type": "display_data"
    }
   ],
   "source": [
    "base_image_copy = base_image.copy()\n",
    "text = options_df.loc[index, 'option_name']\n",
    "font = ImageFont.truetype(font_name, font_size)\n",
    "draw = ImageDraw.Draw(base_image_copy)\n",
    "text_left, text_top, text_width, text_height = draw.textbbox((0,0), text, font)\n",
    "position = (random.randrange(0, 105-text_width), random.randrange(0, 20-text_height))\n",
    "draw.text(position, text, font=font, fill=font_color)\n",
    "image_array = np.array(base_image_copy)\n",
    "plt.imshow(image_array)\n",
    "plt.show()"
   ]
  },
  {
   "cell_type": "code",
   "execution_count": 5,
   "metadata": {},
   "outputs": [],
   "source": [
    "from datasets.option_name import OptionNameDataset\n"
   ]
  },
  {
   "cell_type": "code",
   "execution_count": 46,
   "metadata": {},
   "outputs": [],
   "source": [
    "test_ds = OptionNameDataset('data/option_background.png', 'data/options.csv')"
   ]
  },
  {
   "cell_type": "code",
   "execution_count": 47,
   "metadata": {},
   "outputs": [
    {
     "data": {
      "text/plain": [
       "<matplotlib.image.AxesImage at 0x7f1d91ce88b0>"
      ]
     },
     "execution_count": 47,
     "metadata": {},
     "output_type": "execute_result"
    },
    {
     "data": {
      "image/png": "[encoded data removed]",
      "text/plain": [
       "<Figure size 640x480 with 1 Axes>"
      ]
     },
     "metadata": {},
     "output_type": "display_data"
    }
   ],
   "source": [
    "plt.imshow(test_ds[0][0].permute(1,2,0))"
   ]
  },
  {
   "cell_type": "code",
   "execution_count": null,
   "metadata": {},
   "outputs": [],
   "source": []
  }
 ],
 "metadata": {
  "kernelspec": {
   "display_name": "base",
   "language": "python",
   "name": "python3"
  },
  "language_info": {
   "codemirror_mode": {
    "name": "ipython",
    "version": 3
   },
   "file_extension": ".py",
   "mimetype": "text/x-python",
   "name": "python",
   "nbconvert_exporter": "python",
   "pygments_lexer": "ipython3",
   "version": "3.8.13"
  },
  "orig_nbformat": 4
 },
 "nbformat": 4,
 "nbformat_minor": 2
}
