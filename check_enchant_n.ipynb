{
 "cells": [
  {
   "cell_type": "code",
   "execution_count": 9,
   "metadata": {},
   "outputs": [],
   "source": [
    "import torch\n",
    "import torch.nn as nn\n",
    "import models\n",
    "import datasets\n",
    "import json\n",
    "import tqdm\n",
    "from pathlib import Path\n",
    "import matplotlib.pyplot as plt"
   ]
  },
  {
   "cell_type": "code",
   "execution_count": 4,
   "metadata": {},
   "outputs": [],
   "source": [
    "test_name = 'resnet_1'\n",
    "checkpoint = 'epoch_99'"
   ]
  },
  {
   "cell_type": "code",
   "execution_count": 71,
   "metadata": {},
   "outputs": [
    {
     "name": "stdout",
     "output_type": "stream",
     "text": [
      "140\n"
     ]
    }
   ],
   "source": [
    "with open('configs/config_enchant_n.json') as f:\n",
    "    config = json.load(f)\n",
    "eval_model = getattr(models, config['model_name'])(**config['model_kwargs'])\n",
    "eval_model.load_state_dict(torch.load(f'logs/{test_name}/checkpoints/{checkpoint}.pt'))\n",
    "eval_model.eval()\n",
    "eval_ds = getattr(datasets, config['dataset_name'])(**config['dataset_kwargs'])\n",
    "print(len(eval_ds))"
   ]
  },
  {
   "cell_type": "code",
   "execution_count": 72,
   "metadata": {},
   "outputs": [],
   "source": [
    "eval_idx = 130"
   ]
  },
  {
   "cell_type": "code",
   "execution_count": 106,
   "metadata": {},
   "outputs": [
    {
     "name": "stdout",
     "output_type": "stream",
     "text": [
      "Ground truth: 13\n",
      "Prediction: tensor([13])\n",
      "Confidence: tensor([0.9141])\n"
     ]
    },
    {
     "data": {
      "image/png": "[encoded data removed]",
      "text/plain": [
       "<Figure size 640x480 with 1 Axes>"
      ]
     },
     "metadata": {},
     "output_type": "display_data"
    }
   ],
   "source": [
    "sample = eval_ds[eval_idx]\n",
    "x = sample[0].unsqueeze(0)\n",
    "y = sample[1]\n",
    "with torch.no_grad():\n",
    "    y_hat = eval_model(x)\n",
    "plt.imshow(x[0].permute(1,2,0))\n",
    "print(f'Ground truth: {y}')\n",
    "print(f'Prediction: {y_hat.argmax(dim=1)}')\n",
    "print(f'Confidence: {y_hat.softmax(dim=1)[0,y_hat.argmax(dim=1)]}')"
   ]
  },
  {
   "cell_type": "code",
   "execution_count": null,
   "metadata": {},
   "outputs": [],
   "source": []
  }
 ],
 "metadata": {
  "kernelspec": {
   "display_name": "pytorch",
   "language": "python",
   "name": "python3"
  },
  "language_info": {
   "codemirror_mode": {
    "name": "ipython",
    "version": 3
   },
   "file_extension": ".py",
   "mimetype": "text/x-python",
   "name": "python",
   "nbconvert_exporter": "python",
   "pygments_lexer": "ipython3",
   "version": "3.10.8"
  },
  "orig_nbformat": 4
 },
 "nbformat": 4,
 "nbformat_minor": 2
}
