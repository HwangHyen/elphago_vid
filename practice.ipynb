{
 "cells": [
  {
   "cell_type": "code",
   "execution_count": 9,
   "metadata": {},
   "outputs": [
    {
     "name": "stdout",
     "output_type": "stream",
     "text": [
      "Loading page (1/2)\n",
      "Rendering (2/2)                                                    \n",
      "Done                                                               \n"
     ]
    },
    {
     "data": {
      "text/plain": [
       "True"
      ]
     },
     "execution_count": 9,
     "metadata": {},
     "output_type": "execute_result"
    }
   ],
   "source": [
    "import imgkit\n",
    "options = {\n",
    "    'width': 300,\n",
    "    'height': 70,\n",
    "    'quality' : 40,\n",
    "}\n",
    "desc = '제 힘을 모두 <FONT color=#FF9999>소진</FONT>하겠어요.<br>대신, <FONT color=#FFD200>당신이 택한</FONT> 효과의 단계를<br>[<FONT color=#D4FF88>0</FONT>~<FONT color=#D4FF88>+4</FONT>] 중 하나만큼 올려드리죠.'\n",
    "with open('formats/advice.html', 'r') as f:\n",
    "    html = f.read()\n",
    "html = html.replace('[font_size]', '13')\n",
    "html = html.replace('[font]', '맑은 고딕')\n",
    "html = html.replace('[desc]', desc)\n",
    "html = html.replace('{0}', '물약 중독')\n",
    "imgkit.from_string(html, 'out.jpg', options=options)"
   ]
  },
  {
   "cell_type": "code",
   "execution_count": null,
   "metadata": {},
   "outputs": [],
   "source": []
  }
 ],
 "metadata": {
  "kernelspec": {
   "display_name": "pytorch",
   "language": "python",
   "name": "python3"
  },
  "language_info": {
   "codemirror_mode": {
    "name": "ipython",
    "version": 3
   },
   "file_extension": ".py",
   "mimetype": "text/x-python",
   "name": "python",
   "nbconvert_exporter": "python",
   "pygments_lexer": "ipython3",
   "version": "3.10.8"
  },
  "orig_nbformat": 4
 },
 "nbformat": 4,
 "nbformat_minor": 2
}
