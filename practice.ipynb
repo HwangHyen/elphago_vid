{
 "cells": [
  {
   "cell_type": "code",
   "execution_count": 21,
   "metadata": {},
   "outputs": [
    {
     "name": "stdout",
     "output_type": "stream",
     "text": [
      "Loading page (1/2)\n",
      "Rendering (2/2)                                                    \n",
      "Done                                                               \n"
     ]
    },
    {
     "data": {
      "text/plain": [
       "True"
      ]
     },
     "execution_count": 21,
     "metadata": {},
     "output_type": "execute_result"
    }
   ],
   "source": [
    "import imgkit\n",
    "options = {\n",
    "    'width': 300,\n",
    "    'height': 70,\n",
    "    'quality' : 40,\n",
    "}\n",
    "desc = '제 힘을 모두 <FONT color=#FF9999>소진</FONT>하겠어요.<br>대신, <FONT color=#FFD200>당신이 택한</FONT> 효과의 단계를<br>[<FONT color=#D4FF88>0</FONT>~<FONT color=#D4FF88>+4</FONT>] 중 하나만큼 올려드리죠.'\n",
    "with open('formats/advice.html', 'r') as f:\n",
    "    html = f.read()\n",
    "html = html.replace('[font_size]', '13')\n",
    "html = html.replace('[font]', 'malgun gothic')\n",
    "html = html.replace('[advice_img_idx]', '0')\n",
    "html = html.replace('[desc]', desc)\n",
    "html = html.replace('{0}', '물약 중독')\n",
    "imgkit.from_string(html, 'out.jpg', options=options)"
   ]
  },
  {
   "cell_type": "code",
   "execution_count": 1,
   "metadata": {},
   "outputs": [],
   "source": [
    "import pandas as pd\n",
    "id_to_msg = pd.read_csv('data/id_to_message.csv')\n",
    "options = pd.read_csv('data/options.csv')"
   ]
  },
  {
   "cell_type": "code",
   "execution_count": 6,
   "metadata": {},
   "outputs": [
    {
     "data": {
      "text/plain": [
       "Index(['EntityId', 'Desc1', 'Desc2', 'Desc3'], dtype='object')"
      ]
     },
     "execution_count": 6,
     "metadata": {},
     "output_type": "execute_result"
    }
   ],
   "source": [
    "id_to_msg.columns"
   ]
  },
  {
   "cell_type": "code",
   "execution_count": 24,
   "metadata": {},
   "outputs": [
    {
     "data": {
      "text/plain": [
       "numpy.int64"
      ]
     },
     "execution_count": 24,
     "metadata": {},
     "output_type": "execute_result"
    }
   ],
   "source": [
    "id_to_msg['EntityId'].iloc[0]"
   ]
  },
  {
   "cell_type": "code",
   "execution_count": 32,
   "metadata": {},
   "outputs": [
    {
     "data": {
      "text/plain": [
       "'힘'"
      ]
     },
     "execution_count": 32,
     "metadata": {},
     "output_type": "execute_result"
    }
   ],
   "source": [
    "options['option_name'].iloc[0]"
   ]
  },
  {
   "cell_type": "code",
   "execution_count": 77,
   "metadata": {},
   "outputs": [
    {
     "name": "stdout",
     "output_type": "stream",
     "text": [
      "Loading page (1/2)\n",
      "Rendering (2/2)                                                    \n",
      "Done                                                               \n"
     ]
    },
    {
     "data": {
      "text/plain": [
       "True"
      ]
     },
     "execution_count": 77,
     "metadata": {},
     "output_type": "execute_result"
    }
   ],
   "source": [
    "html_options = {\n",
    "    'width': 300,\n",
    "    'height': 70,\n",
    "    'quality' : 40,\n",
    "}\n",
    "fonts=['malgun gothic','batang','gulim','Gungsuh', 'nanumgothic']\n",
    "desc = id_to_msg['Desc1'].iloc[111]\n",
    "with open('formats/advice.html', 'r') as f:\n",
    "    html = f.read()\n",
    "html = html.replace('[font_size]', '12')\n",
    "html = html.replace('[font]', 'malgun gothic')\n",
    "html = html.replace('[advice_img_idx]', '0')\n",
    "html = html.replace('[desc]', desc)\n",
    "html = html.replace('{0}', options['option_name'].iloc[1])\n",
    "html = html.replace('{1}', options['option_name'].iloc[2])\n",
    "imgkit.from_string(html, 'out.jpg', options=html_options)"
   ]
  },
  {
   "cell_type": "code",
   "execution_count": 71,
   "metadata": {},
   "outputs": [
    {
     "data": {
      "text/plain": [
       "44"
      ]
     },
     "execution_count": 71,
     "metadata": {},
     "output_type": "execute_result"
    }
   ],
   "source": [
    "len(options)"
   ]
  },
  {
   "cell_type": "code",
   "execution_count": 2,
   "metadata": {},
   "outputs": [
    {
     "name": "stdout",
     "output_type": "stream",
     "text": [
      "49\n",
      "50\n",
      "53\n",
      "54\n"
     ]
    }
   ],
   "source": [
    "for i in range(132):\n",
    "    if '{1}' in id_to_msg['Desc1'].iloc[i]:\n",
    "        print(i)"
   ]
  },
  {
   "cell_type": "code",
   "execution_count": 5,
   "metadata": {},
   "outputs": [
    {
     "name": "stdout",
     "output_type": "stream",
     "text": [
      "[0, 2, 4, 6, 8, 10, 12, 14, 16, 18, 24, 26, 28, 34, 36, 38, 40, 42, 45, 46, 47, 48, 49, 50, 53, 54, 77, 82]\n",
      "28\n"
     ]
    }
   ],
   "source": [
    "one_option_advice_idx = []\n",
    "for i in range(132):\n",
    "    if '{0}' in id_to_msg['Desc1'].iloc[i]:\n",
    "        one_option_advice_idx.append(i)\n",
    "print(one_option_advice_idx)\n",
    "print(len(one_option_advice_idx))"
   ]
  },
  {
   "cell_type": "code",
   "execution_count": 4,
   "metadata": {},
   "outputs": [
    {
     "name": "stdout",
     "output_type": "stream",
     "text": [
      "10\n",
      "17\n"
     ]
    }
   ],
   "source": [
    "from pathlib import Path\n",
    "for i, p in enumerate(Path('data/advice_gen/49').iterdir()):\n",
    "    if i>12:\n",
    "        break\n",
    "print(int(p.stem.split('_')[-2]))\n",
    "print(int(p.stem.split('_')[-1]))\n"
   ]
  },
  {
   "cell_type": "code",
   "execution_count": 1,
   "metadata": {},
   "outputs": [
    {
     "data": {
      "text/plain": [
       "681120"
      ]
     },
     "execution_count": 1,
     "metadata": {},
     "output_type": "execute_result"
    }
   ],
   "source": [
    "import os\n",
    "len(os.listdir('data/advice_gen/49'))"
   ]
  },
  {
   "cell_type": "code",
   "execution_count": 1,
   "metadata": {},
   "outputs": [],
   "source": [
    "from datasets.advice import AdviceDataset\n",
    "test_ds = AdviceDataset('data/advice_gen')"
   ]
  },
  {
   "cell_type": "code",
   "execution_count": 20,
   "metadata": {},
   "outputs": [
    {
     "data": {
      "text/plain": [
       "torch.float32"
      ]
     },
     "execution_count": 20,
     "metadata": {},
     "output_type": "execute_result"
    }
   ],
   "source": [
    "test_ds[2][0].dtype"
   ]
  },
  {
   "cell_type": "code",
   "execution_count": 5,
   "metadata": {},
   "outputs": [],
   "source": [
    "from torchvision.models import resnet18\n",
    "test_model = resnet18(weights=None, num_classes=132)"
   ]
  },
  {
   "cell_type": "code",
   "execution_count": 6,
   "metadata": {},
   "outputs": [
    {
     "data": {
      "text/plain": [
       "(['x',\n",
       "  'conv1',\n",
       "  'bn1',\n",
       "  'relu',\n",
       "  'maxpool',\n",
       "  'layer1.0.conv1',\n",
       "  'layer1.0.bn1',\n",
       "  'layer1.0.relu',\n",
       "  'layer1.0.conv2',\n",
       "  'layer1.0.bn2',\n",
       "  'layer1.0.add',\n",
       "  'layer1.0.relu_1',\n",
       "  'layer1.1.conv1',\n",
       "  'layer1.1.bn1',\n",
       "  'layer1.1.relu',\n",
       "  'layer1.1.conv2',\n",
       "  'layer1.1.bn2',\n",
       "  'layer1.1.add',\n",
       "  'layer1.1.relu_1',\n",
       "  'layer2.0.conv1',\n",
       "  'layer2.0.bn1',\n",
       "  'layer2.0.relu',\n",
       "  'layer2.0.conv2',\n",
       "  'layer2.0.bn2',\n",
       "  'layer2.0.downsample.0',\n",
       "  'layer2.0.downsample.1',\n",
       "  'layer2.0.add',\n",
       "  'layer2.0.relu_1',\n",
       "  'layer2.1.conv1',\n",
       "  'layer2.1.bn1',\n",
       "  'layer2.1.relu',\n",
       "  'layer2.1.conv2',\n",
       "  'layer2.1.bn2',\n",
       "  'layer2.1.add',\n",
       "  'layer2.1.relu_1',\n",
       "  'layer3.0.conv1',\n",
       "  'layer3.0.bn1',\n",
       "  'layer3.0.relu',\n",
       "  'layer3.0.conv2',\n",
       "  'layer3.0.bn2',\n",
       "  'layer3.0.downsample.0',\n",
       "  'layer3.0.downsample.1',\n",
       "  'layer3.0.add',\n",
       "  'layer3.0.relu_1',\n",
       "  'layer3.1.conv1',\n",
       "  'layer3.1.bn1',\n",
       "  'layer3.1.relu',\n",
       "  'layer3.1.conv2',\n",
       "  'layer3.1.bn2',\n",
       "  'layer3.1.add',\n",
       "  'layer3.1.relu_1',\n",
       "  'layer4.0.conv1',\n",
       "  'layer4.0.bn1',\n",
       "  'layer4.0.relu',\n",
       "  'layer4.0.conv2',\n",
       "  'layer4.0.bn2',\n",
       "  'layer4.0.downsample.0',\n",
       "  'layer4.0.downsample.1',\n",
       "  'layer4.0.add',\n",
       "  'layer4.0.relu_1',\n",
       "  'layer4.1.conv1',\n",
       "  'layer4.1.bn1',\n",
       "  'layer4.1.relu',\n",
       "  'layer4.1.conv2',\n",
       "  'layer4.1.bn2',\n",
       "  'layer4.1.add',\n",
       "  'layer4.1.relu_1',\n",
       "  'avgpool',\n",
       "  'flatten',\n",
       "  'fc'],\n",
       " ['x',\n",
       "  'conv1',\n",
       "  'bn1',\n",
       "  'relu',\n",
       "  'maxpool',\n",
       "  'layer1.0.conv1',\n",
       "  'layer1.0.bn1',\n",
       "  'layer1.0.relu',\n",
       "  'layer1.0.conv2',\n",
       "  'layer1.0.bn2',\n",
       "  'layer1.0.add',\n",
       "  'layer1.0.relu_1',\n",
       "  'layer1.1.conv1',\n",
       "  'layer1.1.bn1',\n",
       "  'layer1.1.relu',\n",
       "  'layer1.1.conv2',\n",
       "  'layer1.1.bn2',\n",
       "  'layer1.1.add',\n",
       "  'layer1.1.relu_1',\n",
       "  'layer2.0.conv1',\n",
       "  'layer2.0.bn1',\n",
       "  'layer2.0.relu',\n",
       "  'layer2.0.conv2',\n",
       "  'layer2.0.bn2',\n",
       "  'layer2.0.downsample.0',\n",
       "  'layer2.0.downsample.1',\n",
       "  'layer2.0.add',\n",
       "  'layer2.0.relu_1',\n",
       "  'layer2.1.conv1',\n",
       "  'layer2.1.bn1',\n",
       "  'layer2.1.relu',\n",
       "  'layer2.1.conv2',\n",
       "  'layer2.1.bn2',\n",
       "  'layer2.1.add',\n",
       "  'layer2.1.relu_1',\n",
       "  'layer3.0.conv1',\n",
       "  'layer3.0.bn1',\n",
       "  'layer3.0.relu',\n",
       "  'layer3.0.conv2',\n",
       "  'layer3.0.bn2',\n",
       "  'layer3.0.downsample.0',\n",
       "  'layer3.0.downsample.1',\n",
       "  'layer3.0.add',\n",
       "  'layer3.0.relu_1',\n",
       "  'layer3.1.conv1',\n",
       "  'layer3.1.bn1',\n",
       "  'layer3.1.relu',\n",
       "  'layer3.1.conv2',\n",
       "  'layer3.1.bn2',\n",
       "  'layer3.1.add',\n",
       "  'layer3.1.relu_1',\n",
       "  'layer4.0.conv1',\n",
       "  'layer4.0.bn1',\n",
       "  'layer4.0.relu',\n",
       "  'layer4.0.conv2',\n",
       "  'layer4.0.bn2',\n",
       "  'layer4.0.downsample.0',\n",
       "  'layer4.0.downsample.1',\n",
       "  'layer4.0.add',\n",
       "  'layer4.0.relu_1',\n",
       "  'layer4.1.conv1',\n",
       "  'layer4.1.bn1',\n",
       "  'layer4.1.relu',\n",
       "  'layer4.1.conv2',\n",
       "  'layer4.1.bn2',\n",
       "  'layer4.1.add',\n",
       "  'layer4.1.relu_1',\n",
       "  'avgpool',\n",
       "  'flatten',\n",
       "  'fc'])"
      ]
     },
     "execution_count": 6,
     "metadata": {},
     "output_type": "execute_result"
    }
   ],
   "source": [
    "from torchvision.models.feature_extraction import get_graph_node_names\n",
    "get_graph_node_names(test_model)"
   ]
  },
  {
   "cell_type": "code",
   "execution_count": null,
   "metadata": {},
   "outputs": [],
   "source": []
  }
 ],
 "metadata": {
  "kernelspec": {
   "display_name": "pytorch",
   "language": "python",
   "name": "python3"
  },
  "language_info": {
   "codemirror_mode": {
    "name": "ipython",
    "version": 3
   },
   "file_extension": ".py",
   "mimetype": "text/x-python",
   "name": "python",
   "nbconvert_exporter": "python",
   "pygments_lexer": "ipython3",
   "version": "3.10.8"
  },
  "orig_nbformat": 4
 },
 "nbformat": 4,
 "nbformat_minor": 2
}
