{
 "cells": [
  {
   "cell_type": "code",
   "execution_count": 1,
   "metadata": {},
   "outputs": [
    {
     "name": "stdout",
     "output_type": "stream",
     "text": [
      "Loading page (1/2)\n",
      "Rendering (2/2)                                                    \n",
      "Done                                                               \n"
     ]
    },
    {
     "data": {
      "text/plain": [
       "True"
      ]
     },
     "execution_count": 1,
     "metadata": {},
     "output_type": "execute_result"
    }
   ],
   "source": [
    "import imgkit\n",
    "\n",
    "# imgkit options output image size is 100*100\n",
    "options = {\n",
    "    # 'width': 100,\n",
    "    # 'height': 100,\n",
    "}\n",
    "imgkit.from_string('이번 연성에서 <FONT color=#FFD200>{0}</FONT> 효과가<br>연성될 확률을 <FONT color=#D4FF88>35</FONT>% 올려주지.', 'out.jpg', options=options)"
   ]
  },
  {
   "cell_type": "code",
   "execution_count": 157,
   "metadata": {},
   "outputs": [
    {
     "name": "stdout",
     "output_type": "stream",
     "text": [
      "Loading page (1/2)\n",
      "Rendering (2/2)                                                    \n",
      "Done                                                               \n"
     ]
    },
    {
     "data": {
      "text/plain": [
       "True"
      ]
     },
     "execution_count": 157,
     "metadata": {},
     "output_type": "execute_result"
    }
   ],
   "source": [
    "options = {\n",
    "    'width': 300,\n",
    "    'height': 70,\n",
    "    'quality' : 40,\n",
    "}\n",
    "desc = '<FONT color=#FFD200>최하 단계</FONT> 효과 <FONT color=#D4FF88>1</FONT>개의 단계를 <FONT color=#D4FF88>2</FONT> 올려드리죠.<br><FONT color=#FFD200>다른</FONT> 효과 <FONT color=#D4FF88>1</FONT>개의 단계가 <FONT color=#FF9999>1</FONT> 줄어들겠지만요.</br>'\n",
    "with open('formats/advice.html', 'r') as f:\n",
    "    html = f.read()\n",
    "html = html.replace('[font_size]', '13')\n",
    "html = html.replace('[font]', '고딕')\n",
    "html = html.replace('[desc]', desc)\n",
    "html = html.replace('{0}', '물약 중독')\n",
    "imgkit.from_string(html, 'out.jpg', options=options)"
   ]
  },
  {
   "cell_type": "code",
   "execution_count": null,
   "metadata": {},
   "outputs": [],
   "source": []
  }
 ],
 "metadata": {
  "kernelspec": {
   "display_name": "pytorch",
   "language": "python",
   "name": "python3"
  },
  "language_info": {
   "codemirror_mode": {
    "name": "ipython",
    "version": 3
   },
   "file_extension": ".py",
   "mimetype": "text/x-python",
   "name": "python",
   "nbconvert_exporter": "python",
   "pygments_lexer": "ipython3",
   "version": "3.10.8"
  },
  "orig_nbformat": 4
 },
 "nbformat": 4,
 "nbformat_minor": 2
}
